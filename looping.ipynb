{
 "cells": [
  {
   "cell_type": "code",
   "execution_count": 1,
   "metadata": {},
   "outputs": [
    {
     "name": "stdout",
     "output_type": "stream",
     "text": [
      "1\n",
      "2\n",
      "3\n",
      "4\n",
      "5\n",
      "6\n",
      "7\n",
      "8\n",
      "9\n",
      "10\n"
     ]
    }
   ],
   "source": [
    "i=1\n",
    "while i<=10:\n",
    "    print(i)\n",
    "    i+=1"
   ]
  },
  {
   "cell_type": "code",
   "execution_count": 4,
   "metadata": {},
   "outputs": [
    {
     "name": "stdout",
     "output_type": "stream",
     "text": [
      "good afternoon\n",
      "hadd your lunch\n",
      "good afternoon\n",
      "hadd your lunch\n",
      "good afternoon\n",
      "hadd your lunch\n",
      "good afternoon\n",
      "hadd your lunch\n",
      "good afternoon\n",
      "hadd your lunch\n",
      "good afternoon\n",
      "hadd your lunch\n",
      "good afternoon\n",
      "hadd your lunch\n",
      "good afternoon\n",
      "hadd your lunch\n",
      "good afternoon\n",
      "hadd your lunch\n",
      "good afternoon\n",
      "hadd your lunch\n",
      "good afternoon\n",
      "hadd your lunch\n",
      "good afternoon\n",
      "hadd your lunch\n",
      "good afternoon\n",
      "hadd your lunch\n",
      "good afternoon\n",
      "hadd your lunch\n",
      "good afternoon\n",
      "hadd your lunch\n"
     ]
    }
   ],
   "source": [
    "i=1\n",
    "while i<=15:\n",
    "    print('good afternoon')\n",
    "    print('hadd your lunch')\n",
    "    i+=1\n",
    "\n"
   ]
  },
  {
   "cell_type": "code",
   "execution_count": 6,
   "metadata": {},
   "outputs": [
    {
     "name": "stdout",
     "output_type": "stream",
     "text": [
      "1\n",
      "3\n",
      "5\n",
      "7\n",
      "9\n",
      "11\n",
      "13\n",
      "15\n",
      "17\n",
      "19\n",
      "21\n",
      "23\n",
      "25\n",
      "27\n",
      "29\n",
      "31\n",
      "33\n",
      "35\n",
      "37\n",
      "39\n",
      "41\n",
      "43\n",
      "45\n",
      "47\n",
      "49\n",
      "51\n",
      "53\n",
      "55\n",
      "57\n",
      "59\n",
      "61\n",
      "63\n",
      "65\n",
      "67\n",
      "69\n",
      "71\n",
      "73\n",
      "75\n",
      "77\n",
      "79\n",
      "81\n",
      "83\n",
      "85\n",
      "87\n",
      "89\n",
      "91\n",
      "93\n",
      "95\n",
      "97\n",
      "99\n"
     ]
    }
   ],
   "source": [
    "i=1\n",
    "while i<=100:\n",
    "    print(i)\n",
    "    i+=2"
   ]
  },
  {
   "cell_type": "code",
   "execution_count": 7,
   "metadata": {},
   "outputs": [
    {
     "name": "stdout",
     "output_type": "stream",
     "text": [
      "\n",
      "r\n",
      "ra\n",
      "rav\n",
      "ravi\n",
      "ravin\n",
      "ravind\n",
      "ravindr\n",
      "ravindra\n",
      "ravindran\n",
      "ravindrana\n",
      "ravindranat\n",
      "ravindranath\n"
     ]
    }
   ],
   "source": [
    "a=\"ravindranath\"\n",
    "i=0\n",
    "while i<=len(a):\n",
    "    print(a[0:i])\n",
    "    i+=1"
   ]
  },
  {
   "cell_type": "code",
   "execution_count": 10,
   "metadata": {},
   "outputs": [
    {
     "name": "stdout",
     "output_type": "stream",
     "text": [
      "4\n",
      "8\n",
      "12\n",
      "16\n",
      "20\n",
      "24\n",
      "28\n",
      "32\n",
      "36\n",
      "40\n"
     ]
    }
   ],
   "source": [
    "i=int(input())\n",
    "j=1\n",
    "while j<=10:\n",
    "    print(i*j)\n",
    "    j+=1"
   ]
  },
  {
   "cell_type": "code",
   "execution_count": 13,
   "metadata": {},
   "outputs": [
    {
     "name": "stdout",
     "output_type": "stream",
     "text": [
      "8\n",
      "10\n",
      "12\n",
      "14\n",
      "16\n",
      "18\n",
      "20\n",
      "22\n",
      "24\n"
     ]
    }
   ],
   "source": [
    "i=7\n",
    "while i<=25:\n",
    "    if i%2==0:\n",
    "        print(i)\n",
    "    i+=1"
   ]
  },
  {
   "cell_type": "code",
   "execution_count": 2,
   "metadata": {},
   "outputs": [
    {
     "name": "stdout",
     "output_type": "stream",
     "text": [
      "15\n",
      "14\n",
      "13\n",
      "12\n",
      "11\n",
      "10\n",
      "9\n",
      "8\n",
      "7\n",
      "6\n",
      "5\n",
      "4\n",
      "3\n",
      "2\n",
      "1\n"
     ]
    }
   ],
   "source": [
    "i=15\n",
    "while i>0:\n",
    "    print(i)\n",
    "    i-=1"
   ]
  },
  {
   "cell_type": "code",
   "execution_count": 4,
   "metadata": {},
   "outputs": [
    {
     "name": "stdout",
     "output_type": "stream",
     "text": [
      "15\n"
     ]
    }
   ],
   "source": [
    "i=10\n",
    "while i<=25:\n",
    "    if i%3==0 and i%5==0:\n",
    "        print(i)\n",
    "    i+=1    "
   ]
  },
  {
   "cell_type": "code",
   "execution_count": 16,
   "metadata": {},
   "outputs": [
    {
     "name": "stdout",
     "output_type": "stream",
     "text": [
      "2\n",
      "4\n",
      "6\n"
     ]
    }
   ],
   "source": [
    "i=1\n",
    "while i<=15:\n",
    "    if i%2==0 and i<=6:\n",
    "        print(i)\n",
    "    i+=1"
   ]
  },
  {
   "cell_type": "code",
   "execution_count": 17,
   "metadata": {},
   "outputs": [
    {
     "name": "stdout",
     "output_type": "stream",
     "text": [
      "25\n",
      "23\n",
      "21\n",
      "19\n",
      "17\n"
     ]
    }
   ],
   "source": [
    "i=25\n",
    "j=0\n",
    "while i>0 and j<5:\n",
    "    if i%2==1:\n",
    "        print(i)\n",
    "        j+=1\n",
    "    i-=1    "
   ]
  },
  {
   "cell_type": "code",
   "execution_count": 7,
   "metadata": {},
   "outputs": [
    {
     "name": "stdout",
     "output_type": "stream",
     "text": [
      "a\n",
      "b\n",
      "c\n",
      "d\n",
      "e\n",
      "f\n",
      "g\n",
      "h\n",
      "i\n",
      "j\n",
      "k\n",
      "l\n",
      "m\n",
      "n\n",
      "o\n",
      "p\n",
      "q\n",
      "r\n",
      "s\n",
      "t\n",
      "u\n",
      "v\n",
      "w\n",
      "x\n",
      "y\n",
      "z\n"
     ]
    }
   ],
   "source": [
    "start=ord(input())\n",
    "end=ord(input())\n",
    "while start<=end:\n",
    "    print(chr(start))\n",
    "    start+=1"
   ]
  },
  {
   "cell_type": "code",
   "execution_count": 4,
   "metadata": {},
   "outputs": [
    {
     "name": "stdout",
     "output_type": "stream",
     "text": [
      ")*#$ $*( ,44321 ,ooe ,dlrwllh \n"
     ]
    }
   ],
   "source": [
    "st=\"(*12hello3$ $4#world4*)\"  #o/p:)*#$$*(,44321,ooe,dlrwllh\n",
    "res1=\" \"\n",
    "res2=\" \"\n",
    "res3=\" \"\n",
    "res4=\" \"\n",
    "for i in st:\n",
    "    if not(i>=\"a\" and i<=\"z\" or i>='0' and i<=\"9\"):\n",
    "        res1+=i\n",
    "    if i>=\"1\" and i<=\"9\":\n",
    "        res2+=i\n",
    "    if i in \"aeiou\":\n",
    "        res3+=i\n",
    "    if ( i>=\"a\" and i<=\"z\" and i not in \"aeiou\" ):\n",
    "        res4+=i\n",
    "print(res1[-1::-1],res2[-1::-1],res3[-1::-1],res4[-1::-1],sep=\",\")            "
   ]
  },
  {
   "cell_type": "code",
   "execution_count": 15,
   "metadata": {},
   "outputs": [
    {
     "name": "stdout",
     "output_type": "stream",
     "text": [
      " hllwrld, eoo, 12344, (*$ $#*)\n"
     ]
    }
   ],
   "source": [
    "st=\"(*12hello3$ $4#world4*)\" #o/p:hllwrld,eoo,12344,(*$ $#*)\n",
    "res1=\" \"\n",
    "res2=\" \"\n",
    "res3=\" \"\n",
    "res4=\" \"\n",
    "i=0\n",
    "while i<=len(st)-1:\n",
    "     ch=st[i]\n",
    "     if ch>=\"a\" and ch<=\"z\" and ch not in \"aeiou\":\n",
    "         res1+=ch\n",
    "     if ch>=\"a\" and ch<=\"z\" and ch in \"aeiou\":\n",
    "         res2+=ch\n",
    "     if ch>=\"0\" and ch<=\"9\":\n",
    "         res3+=ch\n",
    "     if not(ch>='a' and ch<=\"z\" or ch>=\"0\" and ch<=\"9\"):\n",
    "            res4+=ch\n",
    "     i+=1\n",
    "print(res1,res2,res3,res4,sep=\",\")                      "
   ]
  },
  {
   "cell_type": "code",
   "execution_count": 38,
   "metadata": {},
   "outputs": [
    {
     "name": "stdout",
     "output_type": "stream",
     "text": [
      " h$ll.w.rld\n"
     ]
    }
   ],
   "source": [
    "st=\"HELLOWORLD\"  #O/P:'h$ll*w*rld'\n",
    "res1=\" \"\n",
    "for i in st:\n",
    "    if i in \"AEIOU\":\n",
    "        i=chr(ord(i)-33)\n",
    "        res1+=i\n",
    "    if i in st:\n",
    "        i=chr(ord(i)+32)  \n",
    "        res1+=i\n",
    "print(res1)          \n",
    "        "
   ]
  },
  {
   "cell_type": "code",
   "execution_count": 43,
   "metadata": {},
   "outputs": [
    {
     "name": "stdout",
     "output_type": "stream",
     "text": [
      " axbycz\n"
     ]
    }
   ],
   "source": [
    "st1=\"abc\"\n",
    "st2=\"xyz\" \n",
    "res=\" \"               #o/p:axbycz\n",
    "for i in range(len(st1)):\n",
    "    res+=st1[i]+st2[i]\n",
    "print(res)    \n"
   ]
  }
 ],
 "metadata": {
  "kernelspec": {
   "display_name": "Python 3",
   "language": "python",
   "name": "python3"
  },
  "language_info": {
   "codemirror_mode": {
    "name": "ipython",
    "version": 3
   },
   "file_extension": ".py",
   "mimetype": "text/x-python",
   "name": "python",
   "nbconvert_exporter": "python",
   "pygments_lexer": "ipython3",
   "version": "3.6.2"
  }
 },
 "nbformat": 4,
 "nbformat_minor": 2
}
