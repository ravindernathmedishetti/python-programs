{
 "cells": [
  {
   "cell_type": "markdown",
   "metadata": {},
   "source": [
    "slicing is the process of reading/retriving multiple sequential elements from the given collection\n",
    "slicing is implemented on only list,string,tuple,values of dictionary\n",
    "it can be implemented in two ways\n",
    "1.without step values \n",
    "syntax:varname[startindex:endindex]\n",
    "2.with step values\n",
    "syntax:varname[start:end:step]\n",
    "step is used to updation of string. if step is positive string reading starts from left to right side of sequence and negative means string reading starts from right to left"
   ]
  },
  {
   "cell_type": "code",
   "execution_count": 14,
   "metadata": {},
   "outputs": [
    {
     "name": "stdout",
     "output_type": "stream",
     "text": [
      "ramanujan\n",
      "anuja\n",
      "ram\n",
      "\n",
      "ramanujan\n",
      "manujan\n",
      "raman\n",
      "\n",
      "unama\n",
      "najunamar\n",
      "ramanujan\n",
      "rmnjn\n"
     ]
    }
   ],
   "source": [
    "st=\"ramanujan\"\n",
    "print(st[0:])\n",
    "print(st[3:-1])\n",
    "print(st[0:3])\n",
    "print(st[3:0])#it returns empty string because the sequence of the string should be left to right\n",
    "print(st[0:])\n",
    "print(st[2:])\n",
    "print(st[0:5:1])\n",
    "print(st[0:5:-1])#empty string\n",
    "print(st[5:0:-1])\n",
    "print(st[::-1])\n",
    "print(st[::1])\n",
    "print(st[::2])\n"
   ]
  },
  {
   "cell_type": "code",
   "execution_count": 37,
   "metadata": {},
   "outputs": [
    {
     "name": "stdout",
     "output_type": "stream",
     "text": [
      "[1, 2]\n",
      "[3, 'jack sparow']\n",
      "wayne\n",
      "city\n",
      "['manchister city', 'wayne rooney']\n",
      "[3, 2, 1]\n",
      "['wayne rooney', [3, 1]]\n",
      "['manchister city', 'jack sparow']\n",
      "spa\n",
      "roo\n",
      "ytic\n",
      "jack\n",
      "jk\n",
      "roe\n",
      "saow\n",
      "woraps kcaj\n"
     ]
    }
   ],
   "source": [
    "l=[1,2,3,\"jack sparow\",\"wayne rooney\",\"manchister city\"]\n",
    "print(l[0:2])\n",
    "a=l[2],l[3]\n",
    "print(list(a))\n",
    "print((l[4][0:5]))\n",
    "print(l[5][11:])\n",
    "b=(l[5],l[4])\n",
    "print(list(b))\n",
    "print(l[2::-1])\n",
    "c=l[4],l[2::-2]\n",
    "print(list(c))\n",
    "e=l[5],l[3]\n",
    "print(list(e))\n",
    "print(l[3][5:8])\n",
    "print(l[4][6:9])\n",
    "print(l[5][-1:-5:-1])\n",
    "print(l[3][0:4])\n",
    "print(l[3][0:4:3])\n",
    "print(l[4][6:11:2])\n",
    "d=l[3][5:8:2]\n",
    "e=l[3][9:]\n",
    "print(d+e)\n",
    "print(l[3][::-1])"
   ]
  },
  {
   "cell_type": "code",
   "execution_count": 9,
   "metadata": {},
   "outputs": [
    {
     "name": "stdout",
     "output_type": "stream",
     "text": [
      "[2, 3, 4, 3, 4, 5, 6]\n"
     ]
    }
   ],
   "source": [
    "l1=[2,3,4]\n",
    "l2=[3,4,5,6]\n",
    "if type(l1[0])==int and type(l2[0])==int:\n",
    "    print(l1+l2)\n",
    "else:\n",
    "    print(id(l1),id(l2))"
   ]
  },
  {
   "cell_type": "code",
   "execution_count": 12,
   "metadata": {},
   "outputs": [
    {
     "name": "stdout",
     "output_type": "stream",
     "text": [
      "6\n"
     ]
    }
   ],
   "source": [
    "l=[2,2,4,4,5]\n",
    "mid=len(l)//2\n",
    "midch=l[mid]\n",
    "if l[0]%2==0 and midch%2==0:\n",
    "    print(midch+l[0])\n",
    "else:\n",
    "    print(midch-l[0])"
   ]
  },
  {
   "cell_type": "code",
   "execution_count": 19,
   "metadata": {},
   "outputs": [
    {
     "name": "stdout",
     "output_type": "stream",
     "text": [
      "oneplus\n",
      "elppa\n",
      "lap\n",
      "hse\n",
      "apple\n",
      "sulp\n",
      "pp\n",
      "oneplusapple\n",
      "venu\n",
      "['apple', 'oneplus']\n",
      "venuresh\n",
      "gopal\n",
      "ana\n",
      "amaresh\n",
      "resh\n",
      "anaconda\n"
     ]
    }
   ],
   "source": [
    "d={1:[\"oneplus\",\"apple\"],2:{\"name1\":\"venugopal\",\"name2\":\"amaresh\"},\"a\":\"anaconda\"}\n",
    "print(d[1][0])\n",
    "print(d[1][1][::-1])\n",
    "print(d[2]['name1'][8:5:-1])\n",
    "print(d[2]['name2'][6:3:-1])\n",
    "print(d[1][1])\n",
    "print(d[1][0][6:2:-1])\n",
    "print(d[1][1][1:3])\n",
    "print(d[1][0]+d[1][1])\n",
    "print(d[2]['name1'][0:4])\n",
    "print(d[1][::-1])\n",
    "print(d[2]['name1'][0:4]+d[2]['name2'][3:])\n",
    "print(d[2]['name1'][4:])\n",
    "print(d[\"a\"][0:3])\n",
    "print(d[2]['name2'])\n",
    "print(d[2]['name2'][3:])\n",
    "print(d[\"a\"])"
   ]
  }
 ],
 "metadata": {
  "kernelspec": {
   "display_name": "Python 3",
   "language": "python",
   "name": "python3"
  },
  "language_info": {
   "codemirror_mode": {
    "name": "ipython",
    "version": 3
   },
   "file_extension": ".py",
   "mimetype": "text/x-python",
   "name": "python",
   "nbconvert_exporter": "python",
   "pygments_lexer": "ipython3",
   "version": "3.6.2"
  }
 },
 "nbformat": 4,
 "nbformat_minor": 2
}
