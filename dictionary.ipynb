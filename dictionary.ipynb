{
 "cells": [
  {
   "cell_type": "code",
   "execution_count": 2,
   "metadata": {},
   "outputs": [
    {
     "name": "stdout",
     "output_type": "stream",
     "text": [
      "{1: 'ravi', 2: 'mahi', 3: 'shanku'}\n"
     ]
    }
   ],
   "source": [
    "d={}\n",
    "n=int(input())\n",
    "for i in range(n):\n",
    "    key=int(input())\n",
    "    value=input()\n",
    "    d[key]=value\n",
    "print(d)    "
   ]
  },
  {
   "cell_type": "code",
   "execution_count": 19,
   "metadata": {},
   "outputs": [
    {
     "name": "stdout",
     "output_type": "stream",
     "text": [
      "given key is exists\n"
     ]
    }
   ],
   "source": [
    "d={1:2,2:3,3:4,4:5}\n",
    "key=int(input())\n",
    "for i in d:\n",
    "    if i==key:\n",
    "        print(\"given key is exists\")\n",
    "        break\n",
    "        \n",
    "else:\n",
    "    print(\"key is not exist\")\n",
    "    "
   ]
  },
  {
   "cell_type": "code",
   "execution_count": 23,
   "metadata": {},
   "outputs": [
    {
     "name": "stdout",
     "output_type": "stream",
     "text": [
      "{1: 1, 2: 4, 3: 9, 4: 16, 5: 25}\n"
     ]
    }
   ],
   "source": [
    "d={}\n",
    "n=int(input())\n",
    "for i in range(1,n+1):\n",
    "    d[i]=i*i\n",
    "print(d)    "
   ]
  },
  {
   "cell_type": "code",
   "execution_count": 25,
   "metadata": {},
   "outputs": [
    {
     "name": "stdout",
     "output_type": "stream",
     "text": [
      "{1: (1, 1), 2: (2, 4), 3: (3, 9), 4: (4, 16), 5: (5, 25)}\n"
     ]
    }
   ],
   "source": [
    "d={}\n",
    "n=int(input())\n",
    "for i in range(1,n+1):\n",
    "    d[i]=(i,i*i)\n",
    "print(d)    \n",
    "        "
   ]
  },
  {
   "cell_type": "code",
   "execution_count": 30,
   "metadata": {},
   "outputs": [
    {
     "name": "stdout",
     "output_type": "stream",
     "text": [
      "{'ravi': 1, 'mahi': 2}\n"
     ]
    }
   ],
   "source": [
    "l=[\"ravi\",\"mahi\"]\n",
    "n=[1,2]\n",
    "d={}\n",
    "j=0\n",
    "for i in l:\n",
    "    d[i]=n[j]\n",
    "    j+=1\n",
    "print(d)        \n"
   ]
  },
  {
   "cell_type": "code",
   "execution_count": 33,
   "metadata": {},
   "outputs": [
    {
     "name": "stdout",
     "output_type": "stream",
     "text": [
      "{1: 100, 2: 200, 3: 600, 4: 800}\n"
     ]
    }
   ],
   "source": [
    "d1={1:100,2:200}\n",
    "d2={3:600,4:800}\n",
    "for i in d2:\n",
    "    d1[i]=d2[i]\n",
    "print(d1)    "
   ]
  },
  {
   "cell_type": "code",
   "execution_count": 38,
   "metadata": {},
   "outputs": [
    {
     "name": "stdout",
     "output_type": "stream",
     "text": [
      "384\n"
     ]
    }
   ],
   "source": [
    "d={1:2,2:4,3:6,4:8}\n",
    "p=1\n",
    "for i in d:\n",
    "    p=p*d[i]\n",
    "print(p)    "
   ]
  },
  {
   "cell_type": "code",
   "execution_count": 39,
   "metadata": {},
   "outputs": [
    {
     "name": "stdout",
     "output_type": "stream",
     "text": [
      "16\n"
     ]
    }
   ],
   "source": [
    "d={1:2,2:3,4:5,5:6}\n",
    "s=0\n",
    "for i in d:\n",
    "    s=s+d[i]\n",
    "print(s)    "
   ]
  },
  {
   "cell_type": "code",
   "execution_count": 45,
   "metadata": {},
   "outputs": [
    {
     "name": "stdout",
     "output_type": "stream",
     "text": [
      "{1: 2, 4: 8, 5: 10}\n"
     ]
    }
   ],
   "source": [
    "d={1:2,2:4,4:8,5:10}\n",
    "d1={}\n",
    "remove=int(input())\n",
    "for i in d:\n",
    "    if i!=remove:\n",
    "        d1[i]=d[i]\n",
    "print(d1)        "
   ]
  },
  {
   "cell_type": "code",
   "execution_count": 15,
   "metadata": {},
   "outputs": [
    {
     "name": "stdout",
     "output_type": "stream",
     "text": [
      "{'r': 1, 'a': 2, 'v': 2, 'i': 2}\n"
     ]
    }
   ],
   "source": [
    "st=input()\n",
    "d={}\n",
    "c=1\n",
    "for i in st:\n",
    "    if i not in d:\n",
    "        d[i]=i\n",
    "        c=0\n",
    "    if i in d:\n",
    "        c+=1  \n",
    "        d[i]=c\n",
    "print(d)          "
   ]
  }
 ],
 "metadata": {
  "kernelspec": {
   "display_name": "Python 3",
   "language": "python",
   "name": "python3"
  },
  "language_info": {
   "codemirror_mode": {
    "name": "ipython",
    "version": 3
   },
   "file_extension": ".py",
   "mimetype": "text/x-python",
   "name": "python",
   "nbconvert_exporter": "python",
   "pygments_lexer": "ipython3",
   "version": "3.6.2"
  }
 },
 "nbformat": 4,
 "nbformat_minor": 2
}
