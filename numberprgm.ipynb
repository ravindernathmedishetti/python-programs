{
 "cells": [
  {
   "cell_type": "markdown",
   "metadata": {},
   "source": [
    "Number programming:\n",
    "performing task with respect to each digit of a given number\n",
    "num%10-for getting last digit\n",
    "num//10-removing last digit\n"
   ]
  },
  {
   "cell_type": "markdown",
   "metadata": {},
   "source": [
    "sum of the digits given number"
   ]
  },
  {
   "cell_type": "code",
   "execution_count": 1,
   "metadata": {},
   "outputs": [
    {
     "name": "stdout",
     "output_type": "stream",
     "text": [
      "3\n"
     ]
    }
   ],
   "source": [
    "n=12\n",
    "sum=0\n",
    "while n!=0:\n",
    "    digit=n%10\n",
    "    sum=sum+digit\n",
    "    n//=10\n",
    "print(sum)"
   ]
  },
  {
   "cell_type": "markdown",
   "metadata": {},
   "source": [
    "product of the digits of given number"
   ]
  },
  {
   "cell_type": "code",
   "execution_count": 3,
   "metadata": {},
   "outputs": [
    {
     "name": "stdout",
     "output_type": "stream",
     "text": [
      "6\n"
     ]
    }
   ],
   "source": [
    "n=int(input())\n",
    "p=1\n",
    "while n!=0:\n",
    "    digit=n%10\n",
    "    p=p*digit\n",
    "    n//=10\n",
    "print(p)"
   ]
  },
  {
   "cell_type": "code",
   "execution_count": 7,
   "metadata": {},
   "outputs": [
    {
     "name": "stdout",
     "output_type": "stream",
     "text": [
      "not a spy\n"
     ]
    }
   ],
   "source": [
    "n=int(input())\n",
    "p=1\n",
    "s=0\n",
    "while n!=0:\n",
    "    d=n%10\n",
    "    p=p*d\n",
    "    s=s+d\n",
    "    n//=10\n",
    "if p==s:\n",
    "    print('spy number')\n",
    "else:\n",
    "    print(\"not a spy\")    "
   ]
  },
  {
   "cell_type": "markdown",
   "metadata": {},
   "source": [
    "odd digits from given number"
   ]
  },
  {
   "cell_type": "code",
   "execution_count": 10,
   "metadata": {},
   "outputs": [
    {
     "name": "stdout",
     "output_type": "stream",
     "text": [
      "5\n",
      "3\n",
      "1\n"
     ]
    }
   ],
   "source": [
    "n=int(input())\n",
    "while n!=0:\n",
    "    d=n%10\n",
    "    if d%2==1:\n",
    "        print(d)\n",
    "    n//=10    "
   ]
  },
  {
   "cell_type": "markdown",
   "metadata": {},
   "source": [
    "wap to count total no.of digits in a given number"
   ]
  },
  {
   "cell_type": "code",
   "execution_count": 12,
   "metadata": {},
   "outputs": [
    {
     "name": "stdout",
     "output_type": "stream",
     "text": [
      "4\n"
     ]
    }
   ],
   "source": [
    "n=int(input())\n",
    "count=0\n",
    "while n!=0:\n",
    "    d=n%10\n",
    "    count+=1\n",
    "    n//=10\n",
    "print(count)"
   ]
  },
  {
   "cell_type": "code",
   "execution_count": 24,
   "metadata": {},
   "outputs": [
    {
     "name": "stdout",
     "output_type": "stream",
     "text": [
      "yup\n"
     ]
    }
   ],
   "source": [
    "n=int(input())\n",
    "s=0\n",
    "num=n\n",
    "while n>0:\n",
    "    d=n%10\n",
    "    s+=d\n",
    "    n//=10\n",
    "if num%s==0:\n",
    "        print('yup')\n",
    "else:\n",
    "        print(\"not\")        "
   ]
  },
  {
   "cell_type": "markdown",
   "metadata": {},
   "source": [
    "max  digit fo a given number "
   ]
  },
  {
   "cell_type": "code",
   "execution_count": 3,
   "metadata": {},
   "outputs": [
    {
     "name": "stdout",
     "output_type": "stream",
     "text": [
      "43\n",
      "4\n"
     ]
    }
   ],
   "source": [
    "n=int(input())\n",
    "print(n)\n",
    "m=n%10\n",
    "while n!=0:\n",
    "    d=n%10\n",
    "    if d>=m:\n",
    "        m=d\n",
    "    n=n//10\n",
    "print(m)    "
   ]
  },
  {
   "cell_type": "markdown",
   "metadata": {},
   "source": [
    "max occuring digit in a given number"
   ]
  }
 ],
 "metadata": {
  "kernelspec": {
   "display_name": "Python 3",
   "language": "python",
   "name": "python3"
  },
  "language_info": {
   "codemirror_mode": {
    "name": "ipython",
    "version": 3
   },
   "file_extension": ".py",
   "mimetype": "text/x-python",
   "name": "python",
   "nbconvert_exporter": "python",
   "pygments_lexer": "ipython3",
   "version": "3.6.2"
  }
 },
 "nbformat": 4,
 "nbformat_minor": 2
}
