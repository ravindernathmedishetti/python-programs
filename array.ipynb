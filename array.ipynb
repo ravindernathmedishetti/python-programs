{
 "cells": [
  {
   "cell_type": "code",
   "execution_count": 1,
   "metadata": {},
   "outputs": [
    {
     "name": "stdout",
     "output_type": "stream",
     "text": [
      "70\n"
     ]
    }
   ],
   "source": [
    "#sum of all elements\n",
    "l=[1,2,3,4,5,6,8,9,10,22]\n",
    "i=0\n",
    "s=0\n",
    "while i<len(l):\n",
    "    s=s+l[i]\n",
    "    i+=1\n",
    "print(s)    "
   ]
  },
  {
   "cell_type": "code",
   "execution_count": 2,
   "metadata": {},
   "outputs": [
    {
     "name": "stdout",
     "output_type": "stream",
     "text": [
      "0\n"
     ]
    }
   ],
   "source": [
    "#min value in list\n",
    "l=[3,4,9,1,2,3,4,5,6,7,0]\n",
    "i=0\n",
    "m=l[0]\n",
    "while i<len(l):\n",
    "    s=l[i]\n",
    "    if s<m:\n",
    "        m=s\n",
    "    i+=1\n",
    "print(m)         "
   ]
  },
  {
   "cell_type": "code",
   "execution_count": 3,
   "metadata": {},
   "outputs": [
    {
     "name": "stdout",
     "output_type": "stream",
     "text": [
      "100\n"
     ]
    }
   ],
   "source": [
    "#max element in an array\n",
    "l=[1,2,3,4,6,77,88,99,100]\n",
    "i=0\n",
    "m=0\n",
    "while i<len(l):\n",
    "    if m<l[i]:\n",
    "        m=l[i]\n",
    "    i+=1\n",
    "print(m)        "
   ]
  },
  {
   "cell_type": "code",
   "execution_count": 4,
   "metadata": {},
   "outputs": [
    {
     "name": "stdout",
     "output_type": "stream",
     "text": [
      "1\n"
     ]
    }
   ],
   "source": [
    "#2nd min element\n",
    "l=[7,2,3,4,5,0,1]\n",
    "a=l[0]\n",
    "b=l[0]\n",
    "i=0\n",
    "while i<len(l):\n",
    "    if a>l[i]:\n",
    "        a=b\n",
    "        b=l[i]\n",
    "    elif a<l[i] and a>l[i]:\n",
    "        b=l[i]\n",
    "    i+=1\n",
    "print(b)            \n",
    "        "
   ]
  },
  {
   "cell_type": "code",
   "execution_count": 5,
   "metadata": {},
   "outputs": [
    {
     "name": "stdout",
     "output_type": "stream",
     "text": [
      "55\n"
     ]
    }
   ],
   "source": [
    "#2nd max element\n",
    "l=[1,2,3,4,5,77,44,0,1,55]\n",
    "a=l[0]\n",
    "b=l[0]\n",
    "i=0\n",
    "while i<len(l):\n",
    "    if l[i]>a: \n",
    "        b=a\n",
    "        a=l[i]\n",
    "    elif l[i]<a and l[i]>b:\n",
    "        b=l[i]\n",
    "    i+=1    \n",
    "print(b)               "
   ]
  },
  {
   "cell_type": "code",
   "execution_count": 6,
   "metadata": {},
   "outputs": [
    {
     "name": "stdout",
     "output_type": "stream",
     "text": [
      "3.0\n"
     ]
    }
   ],
   "source": [
    "#avg of list elements\n",
    "l=[1,2,3,4,5]\n",
    "s=0\n",
    "i=0\n",
    "while i<len(l):\n",
    "    s=s+l[i]\n",
    "    i+=1\n",
    "a=s/len(l)\n",
    "print(a)\n"
   ]
  },
  {
   "cell_type": "code",
   "execution_count": 7,
   "metadata": {},
   "outputs": [
    {
     "name": "stdout",
     "output_type": "stream",
     "text": [
      "20\n"
     ]
    }
   ],
   "source": [
    "#sum of all even indexed elements\n",
    "l=[1,2,3,4,4,5,6,7,6]\n",
    "s=0\n",
    "i=0\n",
    "while i<len(l):\n",
    "    if i%2==0:\n",
    "        s=s+l[i]\n",
    "    i+=1\n",
    "print(s)       "
   ]
  },
  {
   "cell_type": "code",
   "execution_count": 8,
   "metadata": {},
   "outputs": [
    {
     "name": "stdout",
     "output_type": "stream",
     "text": [
      "20\n"
     ]
    }
   ],
   "source": [
    "#sum of all odd indexed elements\n",
    "l=[1,2,3,4,5,6,7,8]\n",
    "s=0\n",
    "i=0\n",
    "while i<len(l):\n",
    "    if i%2==1:\n",
    "        s=s+l[i]\n",
    "    i+=1\n",
    "print(s)        "
   ]
  },
  {
   "cell_type": "code",
   "execution_count": 9,
   "metadata": {},
   "outputs": [
    {
     "name": "stdout",
     "output_type": "stream",
     "text": [
      "1\n"
     ]
    }
   ],
   "source": [
    "#min value in even index values\n",
    "l=[9,2,3,4,5,6,7,0,1]\n",
    "m=l[0]\n",
    "i=0\n",
    "while i<len(l):\n",
    "    if i%2==0:\n",
    "        if m>l[i]:\n",
    "            m=l[i]\n",
    "    i+=1\n",
    "print(m)            \n",
    "        "
   ]
  },
  {
   "cell_type": "code",
   "execution_count": 10,
   "metadata": {},
   "outputs": [
    {
     "name": "stdout",
     "output_type": "stream",
     "text": [
      "8\n"
     ]
    }
   ],
   "source": [
    "#max value in odd indexed\n",
    "l=[1,2,3,4,5,6,7,8]\n",
    "a=l[0]\n",
    "for i in range(len(l)):\n",
    "    if i%2==1:\n",
    "        if a<l[i]:\n",
    "            a=l[i]\n",
    "print(a)            "
   ]
  },
  {
   "cell_type": "code",
   "execution_count": 11,
   "metadata": {},
   "outputs": [
    {
     "name": "stdout",
     "output_type": "stream",
     "text": [
      "21.0\n"
     ]
    }
   ],
   "source": [
    "#avg of even indexed values\n",
    "l=[4,5,7,8,52,1]\n",
    "s=0\n",
    "c=0\n",
    "for i in range(len(l)):\n",
    "    if i%2==0:\n",
    "        s=s+l[i]\n",
    "        c+=1\n",
    "    i+=1\n",
    "a=s/c     \n",
    "print(a)  "
   ]
  },
  {
   "cell_type": "code",
   "execution_count": 12,
   "metadata": {},
   "outputs": [
    {
     "name": "stdout",
     "output_type": "stream",
     "text": [
      "15\n"
     ]
    }
   ],
   "source": [
    "#sum of second half of list\n",
    "l=[1,2,3,4,5,6]\n",
    "mid=len(l)//2\n",
    "s=0\n",
    "while mid<len(l):\n",
    "    s=s+l[mid]\n",
    "    mid+=1\n",
    "print(s)    \n",
    "    "
   ]
  },
  {
   "cell_type": "code",
   "execution_count": 13,
   "metadata": {},
   "outputs": [
    {
     "name": "stdout",
     "output_type": "stream",
     "text": [
      "6\n"
     ]
    }
   ],
   "source": [
    "#sum of first half of list\n",
    "l=[1,2,3,4,5,6]\n",
    "s=0\n",
    "i=0\n",
    "mid=len(l)//2\n",
    "while i<mid:\n",
    "    s=s+l[i]\n",
    "    i+=1\n",
    "print(s)    "
   ]
  },
  {
   "cell_type": "code",
   "execution_count": 14,
   "metadata": {},
   "outputs": [
    {
     "name": "stdout",
     "output_type": "stream",
     "text": [
      "0.5\n"
     ]
    }
   ],
   "source": [
    "#min value from first half of list\n",
    "l=[1,0.5,2,4,5,6]\n",
    "m=l[0]\n",
    "i=0\n",
    "mid=len(l)//2\n",
    "while i<mid:\n",
    "    if m>l[i]:\n",
    "        m=l[i]\n",
    "    i+=1\n",
    "print(m)        \n",
    "    "
   ]
  },
  {
   "cell_type": "code",
   "execution_count": 15,
   "metadata": {},
   "outputs": [
    {
     "name": "stdout",
     "output_type": "stream",
     "text": [
      "4\n"
     ]
    }
   ],
   "source": [
    "#min value from second half of the list\n",
    "l=[1,2,3,4,5,6,7]\n",
    "m=l[0]\n",
    "mid=len(l)//2\n",
    "while mid<len(l):\n",
    "    if m<l[i]:\n",
    "        m=l[i]\n",
    "    mid+=1\n",
    "print(m)        \n"
   ]
  },
  {
   "cell_type": "code",
   "execution_count": 16,
   "metadata": {},
   "outputs": [
    {
     "name": "stdout",
     "output_type": "stream",
     "text": [
      "[55, 44, 33, 22, 11]\n"
     ]
    }
   ],
   "source": [
    "#read all elements in an array read in reverse order\n",
    "l=[11,22,33,44,55]\n",
    "s=[]\n",
    "i=len(l)-1\n",
    "while i>=0:\n",
    "    s+=[l[i]]\n",
    "    i-=1\n",
    "print(s)                                                  \n",
    "    \n",
    "    "
   ]
  },
  {
   "cell_type": "code",
   "execution_count": 9,
   "metadata": {},
   "outputs": [
    {
     "name": "stdout",
     "output_type": "stream",
     "text": [
      "[4, 3, 2, 1, 5, 6, 7, 77]\n"
     ]
    }
   ],
   "source": [
    "#firsthalf in reverse direction\n",
    "l=[1,2,3,4,5,6,7,77]\n",
    "s=[]\n",
    "mid=(len(l)//2)\n",
    "i=0\n",
    "while i<len(l):\n",
    "    if i<mid:\n",
    "        s=[l[i]]+s\n",
    "    else:\n",
    "        s+=[l[i]]\n",
    "    i+=1\n",
    "print(s)    "
   ]
  },
  {
   "cell_type": "code",
   "execution_count": 17,
   "metadata": {},
   "outputs": [
    {
     "name": "stdout",
     "output_type": "stream",
     "text": [
      "[1, 2, 3, 4, 9, 8, 76, 66, 55]\n"
     ]
    }
   ],
   "source": [
    "#secound half in reverse direction\n",
    "l=[1,2,3,4,55,66,76,8,9]\n",
    "s=[]\n",
    "mid=len(l)//2\n",
    "i=len(l)-1\n",
    "while i>=0:\n",
    "    if i>=0 and i<mid:\n",
    "        s=[l[i]]+s\n",
    "    else:\n",
    "        s+=[l[i]]\n",
    "    i-=1\n",
    "print(s)            "
   ]
  },
  {
   "cell_type": "code",
   "execution_count": 18,
   "metadata": {},
   "outputs": [
    {
     "name": "stdout",
     "output_type": "stream",
     "text": [
      "[1, 3, 5, 7, 9]\n"
     ]
    }
   ],
   "source": [
    "#read even indexed elements\n",
    "l=[1,2,3,4,5,6,7,8,9]\n",
    "s=[]\n",
    "i=0\n",
    "while i<len(l):\n",
    "    if i%2==0:\n",
    "        s+=[l[i]]\n",
    "    i+=1\n",
    "print(s)        "
   ]
  },
  {
   "cell_type": "code",
   "execution_count": 19,
   "metadata": {},
   "outputs": [
    {
     "name": "stdout",
     "output_type": "stream",
     "text": [
      "[2, 1, 0, 55, 3, 4]\n"
     ]
    }
   ],
   "source": [
    "l=[2,0,1,3,55,4]\n",
    "i=1\n",
    "while i<len(l)-1:\n",
    "    if l[i]<l[i+1]:\n",
    "        l[i],l[i+1]=l[i+1],l[i]\n",
    "    i+=2\n",
    "print(l)            "
   ]
  },
  {
   "cell_type": "code",
   "execution_count": 20,
   "metadata": {},
   "outputs": [
    {
     "name": "stdout",
     "output_type": "stream",
     "text": [
      " com\n",
      " com\n",
      " in\n"
     ]
    }
   ],
   "source": [
    "l=['www.amazon.com','www.google.com','www.swiggy.com.in']\n",
    "s=\"\"\n",
    "for i in l:\n",
    "    for j in i:\n",
    "        if j==\".\":\n",
    "            s=\" \"\n",
    "        else:\n",
    "            s+=j    \n",
    "    print(s)                \n",
    "    "
   ]
  },
  {
   "cell_type": "code",
   "execution_count": 21,
   "metadata": {},
   "outputs": [
    {
     "name": "stdout",
     "output_type": "stream",
     "text": [
      "[99, 8, 7, 6, 4, 3, 2, 1]\n"
     ]
    }
   ],
   "source": [
    "l=[1,2,4,3,99,8,6,7]\n",
    "j=0\n",
    "while j<len(l):\n",
    "    i=0\n",
    "    while i<len(l)-1:\n",
    "        if l[i]<l[i+1]:\n",
    "            l[i],l[i+1]=l[i+1],l[i]\n",
    "        i+=1\n",
    "    j+=1    \n",
    "print(l)        \n",
    "        "
   ]
  },
  {
   "cell_type": "code",
   "execution_count": 22,
   "metadata": {},
   "outputs": [],
   "source": [
    "#linear search\n",
    "l=[1,4,3,5,6,7,8]\n",
    "n=int(input())\n",
    "i=0\n",
    "while i<len(l):\n",
    "    if n==l[i]:\n",
    "        print(n,\"is found in index position\",i)\n",
    "        break\n",
    "    i+=1\n",
    "else:\n",
    "    print(\"element is not found\")           "
   ]
  },
  {
   "cell_type": "code",
   "execution_count": null,
   "metadata": {},
   "outputs": [
    {
     "name": "stdout",
     "output_type": "stream",
     "text": [
      "[1, 3, 5, 7, 9]\n"
     ]
    }
   ],
   "source": [
    "#removing odd index values\n",
    "l=[1,2,3,4,5,6,7,8,9]\n",
    "l1=[]\n",
    "i=0\n",
    "while i<len(l):\n",
    "    if i%2==0:\n",
    "        l1+=[l[i]]\n",
    "    i+=1\n",
    "print(l1)             "
   ]
  },
  {
   "cell_type": "code",
   "execution_count": null,
   "metadata": {},
   "outputs": [],
   "source": []
  }
 ],
 "metadata": {
  "kernelspec": {
   "display_name": "Python 3",
   "language": "python",
   "name": "python3"
  },
  "language_info": {
   "codemirror_mode": {
    "name": "ipython",
    "version": 3
   },
   "file_extension": ".py",
   "mimetype": "text/x-python",
   "name": "python",
   "nbconvert_exporter": "python",
   "pygments_lexer": "ipython3",
   "version": "3.6.2"
  }
 },
 "nbformat": 4,
 "nbformat_minor": 2
}
